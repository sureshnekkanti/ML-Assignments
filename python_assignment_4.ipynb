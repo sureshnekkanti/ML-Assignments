{
  "nbformat": 4,
  "nbformat_minor": 0,
  "metadata": {
    "colab": {
      "name": "python_assignment_4.ipynb",
      "provenance": []
    },
    "kernelspec": {
      "name": "python3",
      "display_name": "Python 3"
    }
  },
  "cells": [
    {
      "cell_type": "markdown",
      "metadata": {
        "id": "nSnFoc_wzf9y"
      },
      "source": [
        "**Python Assignment 4**"
      ]
    },
    {
      "cell_type": "markdown",
      "metadata": {
        "id": "5pVPwbGJzvUv"
      },
      "source": [
        "**1.1 Write a Python Program(with class concepts) to find the area of the triangle using the below\n",
        "formula.\n",
        "area = (s*(s-a)*(s-b)*(s-c)) ** 0.5\n",
        "Function to take the length of the sides of triangle from user should be defined in the parent\n",
        "class and function to calculate the area should be defined in subclass.**"
      ]
    },
    {
      "cell_type": "code",
      "metadata": {
        "id": "4cOzGbxAzZxN",
        "outputId": "aa23a72b-9fe0-471e-8c2a-56ea94c509a2",
        "colab": {
          "base_uri": "https://localhost:8080/"
        }
      },
      "source": [
        "class Parent:\n",
        "  def __init__(self):\n",
        "    self.a = float(input('Enter Side a: '))\n",
        "    self.b = float(input('Enter Side b: '))\n",
        "    self.c = float(input('Enter Side c: '))\n",
        "\n",
        "class Sub(Parent):\n",
        "  def area(self):\n",
        "    s = ( self.a + self.b + self.c ) / 2\n",
        "    area = (s * (s - self.a) * (s - self.b) * (s - self.c)) ** 0.5\n",
        "    return area\n",
        "\n",
        "sub = Sub()\n",
        "area=sub.area()\n",
        "print(f\"Area of traingle : {area:.3f} \")"
      ],
      "execution_count": 31,
      "outputs": [
        {
          "output_type": "stream",
          "text": [
            "Enter Side a: 8\n",
            "Enter Side b: 9\n",
            "Enter Side c: 2\n",
            "Area of traingle : 7.310 \n"
          ],
          "name": "stdout"
        }
      ]
    },
    {
      "cell_type": "markdown",
      "metadata": {
        "id": "AurLqrUQ0ASx"
      },
      "source": [
        "**1.2 Write a function filter_long_words() that takes a list of words and an integer n and returns\n",
        "the list of words that are longer than n.**"
      ]
    },
    {
      "cell_type": "code",
      "metadata": {
        "id": "by2YmFCN0MG8",
        "outputId": "1706c3c2-bb20-4472-f1eb-4d915288d6cb",
        "colab": {
          "base_uri": "https://localhost:8080/"
        }
      },
      "source": [
        "def filter_long_words(words,n):\n",
        "  if words == None:\n",
        "    return list()\n",
        "  return [word for word in words if len(word) > n]\n",
        "\n",
        "lst = filter_long_words(['a','ab','abc','abcd','efgh','ijkl','b'],3)\n",
        "lst"
      ],
      "execution_count": 12,
      "outputs": [
        {
          "output_type": "execute_result",
          "data": {
            "text/plain": [
              "['abcd', 'efgh', 'ijkl']"
            ]
          },
          "metadata": {
            "tags": []
          },
          "execution_count": 12
        }
      ]
    },
    {
      "cell_type": "markdown",
      "metadata": {
        "id": "2U42aOcT0Mnn"
      },
      "source": [
        "**2.1 Write a Python program using function concept that maps list of words into a list of integers\n",
        "representing the lengths of the corresponding words.\n",
        "Hint: If a list [ ab,cde,erty] is passed on to the python function output should come as [2,3,4]\n",
        "Here 2,3 and 4 are the lengths of the words in the list.**"
      ]
    },
    {
      "cell_type": "code",
      "metadata": {
        "id": "T0c03NU60Utb",
        "outputId": "34d097fe-ec85-4e11-81a8-9e380ed8b925",
        "colab": {
          "base_uri": "https://localhost:8080/"
        }
      },
      "source": [
        "def mymap(words1):\n",
        "  return [len(word1) for word1 in words1]\n",
        "\n",
        "lst1 = mymap( [ 'ab','cde','erty'])\n",
        "lst1"
      ],
      "execution_count": 14,
      "outputs": [
        {
          "output_type": "execute_result",
          "data": {
            "text/plain": [
              "[2, 3, 4]"
            ]
          },
          "metadata": {
            "tags": []
          },
          "execution_count": 14
        }
      ]
    },
    {
      "cell_type": "markdown",
      "metadata": {
        "id": "O6a2htXV0VSE"
      },
      "source": [
        "**2.2 Write a Python function which takes a character (i.e. a string of length 1) and returns True if\n",
        "it is a vowel, False otherwise.**"
      ]
    },
    {
      "cell_type": "code",
      "metadata": {
        "id": "ukJ45gRX0bhO",
        "outputId": "b087a681-9935-40af-8ef7-9b6327c32abb",
        "colab": {
          "base_uri": "https://localhost:8080/"
        }
      },
      "source": [
        "vowels = ['A','E','I','O','U']\n",
        "def isvowel(char):\n",
        "  return char.upper() in vowels\n",
        "\n",
        "print(isvowel('n'))"
      ],
      "execution_count": 24,
      "outputs": [
        {
          "output_type": "stream",
          "text": [
            "False\n"
          ],
          "name": "stdout"
        }
      ]
    },
    {
      "cell_type": "code",
      "metadata": {
        "id": "R8rAk4PM5zkI"
      },
      "source": [
        ""
      ],
      "execution_count": null,
      "outputs": []
    }
  ]
}