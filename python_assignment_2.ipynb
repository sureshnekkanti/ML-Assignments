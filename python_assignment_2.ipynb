{
  "nbformat": 4,
  "nbformat_minor": 0,
  "metadata": {
    "colab": {
      "name": "python_assignment_2.ipynb",
      "provenance": []
    },
    "kernelspec": {
      "name": "python3",
      "display_name": "Python 3"
    }
  },
  "cells": [
    {
      "cell_type": "markdown",
      "metadata": {
        "id": "xG0wgOI5ftsv"
      },
      "source": [
        "**Python Assignment 2**"
      ]
    },
    {
      "cell_type": "markdown",
      "metadata": {
        "id": "wQIcXQWbf56L"
      },
      "source": [
        "1. Create the below pattern using nested for loop in Python."
      ]
    },
    {
      "cell_type": "code",
      "metadata": {
        "id": "UFpljWyif_oh",
        "outputId": "87b54814-0716-4c3d-e389-9d25a3294564",
        "colab": {
          "base_uri": "https://localhost:8080/",
          "height": 185
        }
      },
      "source": [
        "num = 5\n",
        "columns = 1\n",
        "for i in range( num * 2):\n",
        "  for j in range(0,columns):\n",
        "    print('*',end=' ')\n",
        "  if i < num-1 :\n",
        "    columns += 1\n",
        "  else:\n",
        "    columns -= 1\n",
        "  print()"
      ],
      "execution_count": 10,
      "outputs": [
        {
          "output_type": "stream",
          "text": [
            "* \n",
            "* * \n",
            "* * * \n",
            "* * * * \n",
            "* * * * * \n",
            "* * * * \n",
            "* * * \n",
            "* * \n",
            "* \n",
            "\n"
          ],
          "name": "stdout"
        }
      ]
    },
    {
      "cell_type": "markdown",
      "metadata": {
        "id": "gSKJiYGNgA5B"
      },
      "source": [
        "2. Write a Python program to reverse a word after accepting the input from the user.\n",
        "\n",
        "   Input word: ineuron \\\n",
        "   Output: norueni"
      ]
    },
    {
      "cell_type": "code",
      "metadata": {
        "id": "8FDFG6ongTJm",
        "outputId": "6c38971e-ee20-48fb-a0c1-9910d2cc413b",
        "colab": {
          "base_uri": "https://localhost:8080/",
          "height": 50
        }
      },
      "source": [
        "word = input('Input word:')\n",
        "print('Output:',word[::-1])"
      ],
      "execution_count": 12,
      "outputs": [
        {
          "output_type": "stream",
          "text": [
            "Input word:ineuron\n",
            "Output: norueni\n"
          ],
          "name": "stdout"
        }
      ]
    }
  ]
}