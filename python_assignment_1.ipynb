{
  "nbformat": 4,
  "nbformat_minor": 0,
  "metadata": {
    "colab": {
      "name": "python-assignment-1.ipynb",
      "provenance": [],
      "collapsed_sections": []
    },
    "kernelspec": {
      "name": "python3",
      "display_name": "Python 3"
    }
  },
  "cells": [
    {
      "cell_type": "markdown",
      "metadata": {
        "id": "lBHnW5VPk1p9"
      },
      "source": [
        "**Python Assignment 1**"
      ]
    },
    {
      "cell_type": "markdown",
      "metadata": {
        "id": "GGif2e7DjYF6"
      },
      "source": [
        " Question 1 \n",
        "\n",
        "Write a program which will find all such numbers which are divisible by 7   but are not a multiple of 5, between 2000 and 3200 (both included). \n",
        "The numbers obtained should be printed in a comma-separated sequence on a single line. "
      ]
    },
    {
      "cell_type": "code",
      "metadata": {
        "id": "xjMjGumnjwmB",
        "outputId": "180cce2d-95e1-4358-89b8-addd4e183353",
        "colab": {
          "base_uri": "https://localhost:8080/",
          "height": 54
        }
      },
      "source": [
        "nums = list()\n",
        "for num in range(2000,3201):\n",
        "  if(num % 7 ==0 and num % 5 != 0):\n",
        "    nums.append(num)\n",
        "print(*nums, sep=\",\")"
      ],
      "execution_count": null,
      "outputs": [
        {
          "output_type": "stream",
          "text": [
            "2002,2009,2016,2023,2037,2044,2051,2058,2072,2079,2086,2093,2107,2114,2121,2128,2142,2149,2156,2163,2177,2184,2191,2198,2212,2219,2226,2233,2247,2254,2261,2268,2282,2289,2296,2303,2317,2324,2331,2338,2352,2359,2366,2373,2387,2394,2401,2408,2422,2429,2436,2443,2457,2464,2471,2478,2492,2499,2506,2513,2527,2534,2541,2548,2562,2569,2576,2583,2597,2604,2611,2618,2632,2639,2646,2653,2667,2674,2681,2688,2702,2709,2716,2723,2737,2744,2751,2758,2772,2779,2786,2793,2807,2814,2821,2828,2842,2849,2856,2863,2877,2884,2891,2898,2912,2919,2926,2933,2947,2954,2961,2968,2982,2989,2996,3003,3017,3024,3031,3038,3052,3059,3066,3073,3087,3094,3101,3108,3122,3129,3136,3143,3157,3164,3171,3178,3192,3199\n"
          ],
          "name": "stdout"
        }
      ]
    },
    {
      "cell_type": "markdown",
      "metadata": {
        "id": "Z21Zg_KDjxK7"
      },
      "source": [
        "Question 2\n",
        "\n",
        "Write a Python program to accept the user's first and last name and then getting them printed in the the reverse order with a space between first name and last name."
      ]
    },
    {
      "cell_type": "code",
      "metadata": {
        "id": "hNyMXedXkAPi",
        "outputId": "abc25e77-6a74-40f1-dfb1-42025c9c31b5",
        "colab": {
          "base_uri": "https://localhost:8080/",
          "height": 67
        }
      },
      "source": [
        "first_name = input(\"Enter your first name : \").strip()\n",
        "last_name = input(\"Enter your last name : \").strip()\n",
        "print(first_name[::-1],last_name[::-1],sep=\" \")"
      ],
      "execution_count": 2,
      "outputs": [
        {
          "output_type": "stream",
          "text": [
            "Enter your first name : Suresh\n",
            "Enter your last name : Nekkanti\n",
            "hseruS itnakkeN\n"
          ],
          "name": "stdout"
        }
      ]
    },
    {
      "cell_type": "markdown",
      "metadata": {
        "id": "WFzj74LAkAx_"
      },
      "source": [
        "Question 3\n",
        "\n",
        "Write a Python program to find the volume of a sphere with diameter 12 cm.\n",
        " Formula: V=4/3 * π * r 3"
      ]
    },
    {
      "cell_type": "code",
      "metadata": {
        "id": "k5eQUB3UkGOe",
        "outputId": "c4e9e7c1-1307-4875-ae23-d142a277086a",
        "colab": {
          "base_uri": "https://localhost:8080/",
          "height": 34
        }
      },
      "source": [
        "import math\n",
        "diameter = 12\n",
        "r = diameter / 2\n",
        "pi = math.pi\n",
        "volume = (4/3) * pi * ( r ** 3)\n",
        "print(f\"Volume of sphere is : {volume:.3f} cm\\u00b3\")"
      ],
      "execution_count": null,
      "outputs": [
        {
          "output_type": "stream",
          "text": [
            "Volume of sphere is : 904.779 cm³\n"
          ],
          "name": "stdout"
        }
      ]
    }
  ]
}