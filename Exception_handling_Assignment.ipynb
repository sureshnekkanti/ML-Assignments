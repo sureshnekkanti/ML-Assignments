{
  "nbformat": 4,
  "nbformat_minor": 0,
  "metadata": {
    "colab": {
      "name": "Exception_handling_Assignment.ipynb",
      "provenance": []
    },
    "kernelspec": {
      "name": "python3",
      "display_name": "Python 3"
    }
  },
  "cells": [
    {
      "cell_type": "markdown",
      "metadata": {
        "id": "-cWfJULgQqsH"
      },
      "source": [
        "**Exception handling Assignment**"
      ]
    },
    {
      "cell_type": "markdown",
      "metadata": {
        "id": "XGIQq6j_Q08k"
      },
      "source": [
        "**1. Write a function to compute 5/0 and use try/except to catch the exceptions.**"
      ]
    },
    {
      "cell_type": "code",
      "metadata": {
        "id": "nnwgROluOXEw",
        "outputId": "6998a5bb-4373-43b3-e6df-ab52a549c3b3",
        "colab": {
          "base_uri": "https://localhost:8080/",
          "height": 35
        }
      },
      "source": [
        "def handle_exception():\n",
        "  try:\n",
        "    x = 5 / 0\n",
        "  except ZeroDivisionError:\n",
        "    return \"Division by zero gives infinity\"\n",
        "  else:\n",
        "    return x\n",
        "\n",
        "handle_exception()"
      ],
      "execution_count": 8,
      "outputs": [
        {
          "output_type": "execute_result",
          "data": {
            "application/vnd.google.colaboratory.intrinsic+json": {
              "type": "string"
            },
            "text/plain": [
              "'Division by zero gives infinity'"
            ]
          },
          "metadata": {
            "tags": []
          },
          "execution_count": 8
        }
      ]
    },
    {
      "cell_type": "markdown",
      "metadata": {
        "id": "TN6CMfrUQ5pV"
      },
      "source": [
        "**2. Implement a Python program to generate all sentences where subject is in\n",
        "[\"Americans\", \"Indians\"] and verb is in [\"Play\", \"watch\"] and the object is in\n",
        "[\"Baseball\",\"cricket\"].**\n",
        "\n",
        "**Hint: Subject,Verb and Object should be declared in the program as shown below.**\n",
        "\n",
        "**subjects=[\"Americans \",\"Indians\"]**\n",
        "\n",
        "**verbs=[\"play\",\"watch\"]**\n",
        "\n",
        "**objects=[\"Baseball\",\"Cricket\"]**\n",
        "\n",
        "Output should come as below:\n",
        "\n",
        "Americans play Baseball. <br>\n",
        "Americans play Cricket. <br>\n",
        "Americans watch Baseball.<br>\n",
        "Americans watch Cricket. <br>\n",
        "Indians play Baseball. <br>\n",
        "Indians play Cricket. <br>\n",
        "Indians watch Baseball. <br>\n",
        "Indians watch Cricket. <br>"
      ]
    },
    {
      "cell_type": "code",
      "metadata": {
        "id": "qJUJj-obRyOz",
        "outputId": "493a644d-ff83-483e-db83-9f9f584fe5dc",
        "colab": {
          "base_uri": "https://localhost:8080/"
        }
      },
      "source": [
        "def generate_sentances(subjects,verbs, objects):\n",
        "   return [subject+\" \"+verb+\" \"+obj for subject in subjects for verb in verbs for obj in objects]\n",
        "\n",
        "subjects=[\"Americans\",\"Indians\"]\n",
        "verbs=[\"play\",\"watch\"]\n",
        "objects=[\"Baseball\",\"Cricket\"]\n",
        "\n",
        "sentences = generate_sentances(subjects,verbs,objects)\n",
        "\n",
        "for sentence in sentences:\n",
        "  print(sentence, end=\". \\n\")"
      ],
      "execution_count": 11,
      "outputs": [
        {
          "output_type": "stream",
          "text": [
            "Americans play Baseball. \n",
            "Americans play Cricket. \n",
            "Americans watch Baseball. \n",
            "Americans watch Cricket. \n",
            "Indians play Baseball. \n",
            "Indians play Cricket. \n",
            "Indians watch Baseball. \n",
            "Indians watch Cricket. \n"
          ],
          "name": "stdout"
        }
      ]
    }
  ]
}