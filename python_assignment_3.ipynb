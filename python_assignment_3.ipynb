{
  "nbformat": 4,
  "nbformat_minor": 0,
  "metadata": {
    "colab": {
      "name": "python_assignment_3.ipynb",
      "provenance": []
    },
    "kernelspec": {
      "name": "python3",
      "display_name": "Python 3"
    }
  },
  "cells": [
    {
      "cell_type": "markdown",
      "metadata": {
        "id": "p-WyS5om3d3m"
      },
      "source": [
        "**Python Assignment 3**"
      ]
    },
    {
      "cell_type": "markdown",
      "metadata": {
        "id": "ASbf-I2w3oXD"
      },
      "source": [
        " **1.1 Write a Python Program to implement your own myreduce() function which works exactly\n",
        "like Python's built-in function reduce()**"
      ]
    },
    {
      "cell_type": "code",
      "metadata": {
        "id": "9Ew1DY1X3M9W",
        "outputId": "bb735fca-1428-42d3-fa64-bdf4c2010f63",
        "colab": {
          "base_uri": "https://localhost:8080/"
        }
      },
      "source": [
        "def myreduce(function,iterable, initializer=None):\n",
        "  it = iter(iterable)\n",
        "  if initializer == None :\n",
        "    val = next(it)\n",
        "  else :\n",
        "    val = initializer\n",
        "  for element in it:\n",
        "    val = function(val,element)\n",
        "  return val\n",
        "\n",
        "value = myreduce(lambda val1, val2 : val1 + val2, range(1,5))\n",
        "print(value)"
      ],
      "execution_count": 10,
      "outputs": [
        {
          "output_type": "stream",
          "text": [
            "10\n"
          ],
          "name": "stdout"
        }
      ]
    },
    {
      "cell_type": "markdown",
      "metadata": {
        "id": "T8dcuSeN3_tz"
      },
      "source": [
        " **1.2 Write a Python program to implement your own myfilter() function which works exactly\n",
        "like Python's built-in function filter()**"
      ]
    },
    {
      "cell_type": "code",
      "metadata": {
        "id": "ZYgyhbDc4KhH",
        "outputId": "345fcb86-d252-4453-e0ce-c4c83e28f0b7",
        "colab": {
          "base_uri": "https://localhost:8080/"
        }
      },
      "source": [
        "def myfilter(function, iterable):\n",
        "  if function == None :\n",
        "    val = [item for item in iterable if item]\n",
        "  else :\n",
        "    val = [item for item in iterable if function(item)]\n",
        "  return val\n",
        "\n",
        "values = myfilter(lambda x : x % 2 == 0, range(1,5))\n",
        "print(values)"
      ],
      "execution_count": 9,
      "outputs": [
        {
          "output_type": "stream",
          "text": [
            "[2, 4]\n"
          ],
          "name": "stdout"
        }
      ]
    },
    {
      "cell_type": "markdown",
      "metadata": {
        "id": "82P0IWGd4Mfr"
      },
      "source": [
        " **2. Implement List comprehensions to produce the following lists.\n",
        "Write List comprehensions to produce the following Lists**"
      ]
    },
    {
      "cell_type": "markdown",
      "metadata": {
        "id": "9xvsZ4C-Y5GH"
      },
      "source": [
        "  **Write List comprehensions to produce the following Lists**                                                                           "
      ]
    },
    {
      "cell_type": "markdown",
      "metadata": {
        "id": "DPmAXyM9dB_g"
      },
      "source": [
        "**2.1   ['x', 'xx', 'xxx', 'xxxx', 'y', 'yy', 'yyy', 'yyyy', 'z', 'zz', 'zzz', 'zzzz']**"
      ]
    },
    {
      "cell_type": "code",
      "metadata": {
        "id": "8ykyVPaNPujr",
        "outputId": "a1a0bb4d-6864-4de9-f8d7-b913074d166f",
        "colab": {
          "base_uri": "https://localhost:8080/"
        }
      },
      "source": [
        "l1 = ['x', 'y', 'z']\n",
        "lst1 = [i*j for j in l1 for i in range(1,5)]\n",
        "lst1"
      ],
      "execution_count": 12,
      "outputs": [
        {
          "output_type": "execute_result",
          "data": {
            "text/plain": [
              "['x', 'xx', 'xxx', 'xxxx', 'y', 'yy', 'yyy', 'yyyy', 'z', 'zz', 'zzz', 'zzzz']"
            ]
          },
          "metadata": {
            "tags": []
          },
          "execution_count": 12
        }
      ]
    },
    {
      "cell_type": "markdown",
      "metadata": {
        "id": "lkRde4QkdHN2"
      },
      "source": [
        "**2.2   ['x', 'y', 'z', 'xx', 'yy', 'zz', 'xxx', 'yyy', 'zzz', 'xxxx', 'yyyy', 'zzzz']**"
      ]
    },
    {
      "cell_type": "code",
      "metadata": {
        "id": "gvA1EkhZ8_PU",
        "outputId": "ce037821-9ff9-4ec7-db67-4f05738ba90b",
        "colab": {
          "base_uri": "https://localhost:8080/"
        }
      },
      "source": [
        "l2 = ['x', 'y', 'z']\n",
        "lst2 = [a*b for a in range(1,5) for b in l2]\n",
        "lst2"
      ],
      "execution_count": 22,
      "outputs": [
        {
          "output_type": "execute_result",
          "data": {
            "text/plain": [
              "['x', 'y', 'z', 'xx', 'yy', 'zz', 'xxx', 'yyy', 'zzz', 'xxxx', 'yyyy', 'zzzz']"
            ]
          },
          "metadata": {
            "tags": []
          },
          "execution_count": 22
        }
      ]
    },
    {
      "cell_type": "markdown",
      "metadata": {
        "id": "hwJzhy_497q1"
      },
      "source": [
        "**2.3 [[2], [3], [4], [3], [4], [5], [4], [5], [6]]**"
      ]
    },
    {
      "cell_type": "code",
      "metadata": {
        "id": "6-DLaY5d-1Yd",
        "outputId": "e2202d9b-f891-4660-ba2e-5b7647850b70",
        "colab": {
          "base_uri": "https://localhost:8080/"
        }
      },
      "source": [
        "lst3 = [[c + d] for c in range(3) for d in range(2,5)]\n",
        "lst3"
      ],
      "execution_count": 24,
      "outputs": [
        {
          "output_type": "execute_result",
          "data": {
            "text/plain": [
              "[[2], [3], [4], [3], [4], [5], [4], [5], [6]]"
            ]
          },
          "metadata": {
            "tags": []
          },
          "execution_count": 24
        }
      ]
    },
    {
      "cell_type": "markdown",
      "metadata": {
        "id": "D3PrVEI5_rND"
      },
      "source": [
        "**2.4  [[2, 3, 4, 5], [3, 4, 5, 6], [4, 5, 6, 7], [5, 6, 7, 8]]**"
      ]
    },
    {
      "cell_type": "code",
      "metadata": {
        "id": "QU6SEcQg_4wB",
        "outputId": "146e810b-9465-4186-c4f4-cb5bff54d9d9",
        "colab": {
          "base_uri": "https://localhost:8080/"
        }
      },
      "source": [
        "lst4 = [[e+f for e in range(2,6)] for f in range(4)]\n",
        "lst4"
      ],
      "execution_count": 25,
      "outputs": [
        {
          "output_type": "execute_result",
          "data": {
            "text/plain": [
              "[[2, 3, 4, 5], [3, 4, 5, 6], [4, 5, 6, 7], [5, 6, 7, 8]]"
            ]
          },
          "metadata": {
            "tags": []
          },
          "execution_count": 25
        }
      ]
    },
    {
      "cell_type": "markdown",
      "metadata": {
        "id": "V7wHgPj6BAvP"
      },
      "source": [
        "**2.5 [(1, 1), (2, 1), (3, 1), (1, 2), (2, 2), (3, 2), (1, 3), (2, 3), (3, 3)]**"
      ]
    },
    {
      "cell_type": "code",
      "metadata": {
        "id": "6F0H_9OXBLHC",
        "outputId": "65d74fbd-0cbc-4086-94ad-f5aafcf5b3e2",
        "colab": {
          "base_uri": "https://localhost:8080/"
        }
      },
      "source": [
        "lst5 = [(h,g) for g in range(1,4) for h in range(1,4)]\n",
        "lst5"
      ],
      "execution_count": 27,
      "outputs": [
        {
          "output_type": "execute_result",
          "data": {
            "text/plain": [
              "[(1, 1), (2, 1), (3, 1), (1, 2), (2, 2), (3, 2), (1, 3), (2, 3), (3, 3)]"
            ]
          },
          "metadata": {
            "tags": []
          },
          "execution_count": 27
        }
      ]
    }
  ]
}